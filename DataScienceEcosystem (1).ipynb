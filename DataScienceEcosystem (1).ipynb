{
 "cells": [
  {
   "cell_type": "markdown",
   "id": "ec0774b0-fd42-48ec-9d8a-447c783a46a7",
   "metadata": {},
   "source": [
    "# Data Science Tools and Ecosystem"
   ]
  },
  {
   "cell_type": "markdown",
   "id": "e20c7833-1a72-46a5-b144-16595ff2d10c",
   "metadata": {},
   "source": [
    "# In this notebook, Data Science Tools and Ecosystem are summarized."
   ]
  },
  {
   "cell_type": "markdown",
   "id": "7e510c9e-33b0-4a26-9740-9fa5a8175581",
   "metadata": {},
   "source": [
    "# Some of the popular languages that Data Scientists use are:\n",
    "\n",
    "1. Python\n",
    "2. R\n",
    "3. Julia\n",
    "4. SQL\n",
    "5. Scala\n"
   ]
  },
  {
   "cell_type": "markdown",
   "id": "b3edadec-8ad3-42b9-88b8-1c7e32821547",
   "metadata": {},
   "source": [
    "# Some of the commonly used libraries used by Data Scientists include:\n",
    "\n",
    "1. NumPy\n",
    "2. Pandas\n",
    "3. Scikit-learn\n",
    "4. TensorFlow\n",
    "5. Matplotlib\n"
   ]
  },
  {
   "cell_type": "markdown",
   "id": "1804cf25-bb8d-410b-95dc-2b78b389b3c0",
   "metadata": {},
   "source": [
    "|Data Science Tools  |\n",
    "----------------------\n",
    "|Jupyter Notebook    |\n",
    "|RStudio             |\n",
    "|Apache Zeppelin     |\n"
   ]
  },
  {
   "cell_type": "markdown",
   "id": "0044ebf8-56fd-403c-8cdd-7d51910de129",
   "metadata": {},
   "source": [
    "### Below are a few examples of evaluating arithmetic expressions in Python"
   ]
  },
  {
   "cell_type": "code",
   "execution_count": 2,
   "id": "c744e402-d4a6-4fb6-bbb9-a1f3c1754642",
   "metadata": {
    "tags": []
   },
   "outputs": [
    {
     "name": "stdout",
     "output_type": "stream",
     "text": [
      "17\n"
     ]
    }
   ],
   "source": [
    "\n",
    "# This is a simple arithmetic expression to multiply then add integers.\n",
    "result = (3 * 4) + 5\n",
    "print(result)"
   ]
  },
  {
   "cell_type": "code",
   "execution_count": 3,
   "id": "8e5fafc0-7b0f-4d8e-a908-e3e28a1c38f3",
   "metadata": {
    "tags": []
   },
   "outputs": [
    {
     "name": "stdout",
     "output_type": "stream",
     "text": [
      "3.3333333333333335\n"
     ]
    }
   ],
   "source": [
    "\n",
    "# This will convert 200 minutes to hours by dividing by 60.\n",
    "hours = 200 / 60\n",
    "print(hours)\n"
   ]
  },
  {
   "cell_type": "markdown",
   "id": "f9488c0d-28aa-411f-a20d-f58ff518831c",
   "metadata": {},
   "source": [
    "## Objectives:\n",
    "\n",
    "- List popular languages for Data Science.\n",
    "- Explore common libraries and frameworks used in Data Science.\n",
    "- Understand basic data manipulation techniques.\n",
    "- Learn about data visualization tools and techniques.\n",
    "- Gain insights into machine learning algorithms and techniques.\n"
   ]
  },
  {
   "cell_type": "markdown",
   "id": "fbaa7c2a-71c6-4117-a10f-1f6002294fbb",
   "metadata": {},
   "source": [
    "## Author\n",
    "\n",
    "Sasank Karki\n"
   ]
  }
 ],
 "metadata": {
  "kernelspec": {
   "display_name": "Python",
   "language": "python",
   "name": "conda-env-python-py"
  },
  "language_info": {
   "codemirror_mode": {
    "name": "ipython",
    "version": 3
   },
   "file_extension": ".py",
   "mimetype": "text/x-python",
   "name": "python",
   "nbconvert_exporter": "python",
   "pygments_lexer": "ipython3",
   "version": "3.7.12"
  }
 },
 "nbformat": 4,
 "nbformat_minor": 5
}
